{
 "cells": [
  {
   "cell_type": "markdown",
   "id": "8e077a26",
   "metadata": {},
   "source": [
    "## NAME: M.MOIZ RAZA\n",
    "## SECTION: BSAI-3A\n",
    "## ROLL NO: SU92-BSAIM-F24-061\n",
    "## SUBJECT: ARTIFICIAL INTELIGENCE (LAB)"
   ]
  },
  {
   "cell_type": "code",
   "execution_count": 24,
   "id": "1e149e11",
   "metadata": {},
   "outputs": [
    {
     "name": "stdout",
     "output_type": "stream",
     "text": [
      "Advanced Model-Based Reflex Agent\n",
      "Current Temp: 12°C : System Shutdown Too Cold\n",
      "Current Temp: 22°C : Heater ON\n",
      "Current Temp: 24°C : No Change, Heater is ON\n",
      "Current Temp: 25°C : No Change, Heater is ON\n",
      "Current Temp: 28°C : Heater OFF\n",
      "Current Temp: 32°C : No Change, Heater is OFF + Fan ON\n",
      "Current Temp: 27°C : No Change, Heater is OFF\n",
      "Current Temp: 15°C : Heater ON\n",
      "Current Temp: 1°C : System Shutdown Too Cold\n",
      "\n",
      " Action History \n",
      "Temp 12°C → System Shutdown Too Cold\n",
      "Temp 22°C → Heater ON\n",
      "Temp 24°C → No Change, Heater is ON\n",
      "Temp 25°C → No Change, Heater is ON\n",
      "Temp 28°C → Heater OFF\n",
      "Temp 32°C → No Change, Heater is OFF + Fan ON\n",
      "Temp 27°C → No Change, Heater is OFF\n",
      "Temp 15°C → Heater ON\n",
      "Temp 1°C → System Shutdown Too Cold\n"
     ]
    }
   ],
   "source": [
    "class Modelbasedagent:\n",
    "    def __init__(self, desired_temp=25, file_path=\"history.txt\"):\n",
    "        self.desired_temp = desired_temp\n",
    "        self.last_action = \"OFF\"   \n",
    "        self.fan_status = \"OFF\"   \n",
    "        self.history = []          \n",
    "        self.file_path = 'history.txt'\n",
    "\n",
    "        open(self.file_path, \"w\").close()\n",
    "\n",
    "    def save_to_file(self, temp, action):\n",
    "        with open(self.file_path, \"a\") as f:\n",
    "            f.write(f\"Temp {temp}°C → {action}\\n\")\n",
    "\n",
    "    def act(self, current_temp):\n",
    "        if current_temp < 15:\n",
    "            action = \"System Shutdown Too Cold\"\n",
    "            self.last_action = \"OFF\"\n",
    "            self.fan_status = \"OFF\"\n",
    "\n",
    "        elif current_temp < self.desired_temp - 1 and self.last_action != \"ON\":\n",
    "            self.last_action = \"ON\"\n",
    "            action = \"Heater ON\"\n",
    "\n",
    "        elif current_temp > self.desired_temp + 1 and self.last_action != \"OFF\":\n",
    "            self.last_action = \"OFF\"\n",
    "            action = \"Heater OFF\"\n",
    "\n",
    "        else:\n",
    "            action = f\"No Change, Heater is {self.last_action}\"\n",
    "\n",
    "        if current_temp > 30:\n",
    "            self.fan_status = \"ON\"\n",
    "            action += \" + Fan ON\"\n",
    "        else:\n",
    "            self.fan_status = \"OFF\"\n",
    "\n",
    "        self.history.append((current_temp, action))\n",
    "        self.save_to_file(current_temp, action)   \n",
    "        return action\n",
    "\n",
    "    def show_history(self):\n",
    "        print(\"\\n Action History \")\n",
    "        for temp, action in self.history:\n",
    "            print(f\"Temp {temp}°C → {action}\")\n",
    "\n",
    "\n",
    "agent = Modelbasedagent()\n",
    "temperatures = [12, 22, 24, 25, 28, 32, 27, 15, 1]\n",
    "\n",
    "print(\"Advanced Model-Based Reflex Agent\")\n",
    "for temp in temperatures:\n",
    "    print(f\"Current Temp: {temp}°C : {agent.act(temp)}\")\n",
    "\n",
    "agent.show_history()\n"
   ]
  }
 ],
 "metadata": {
  "kernelspec": {
   "display_name": "base",
   "language": "python",
   "name": "python3"
  },
  "language_info": {
   "codemirror_mode": {
    "name": "ipython",
    "version": 3
   },
   "file_extension": ".py",
   "mimetype": "text/x-python",
   "name": "python",
   "nbconvert_exporter": "python",
   "pygments_lexer": "ipython3",
   "version": "3.12.4"
  }
 },
 "nbformat": 4,
 "nbformat_minor": 5
}
