{
 "cells": [
  {
   "cell_type": "markdown",
   "id": "b0d46b2b",
   "metadata": {},
   "source": [
    "## NAME: M.MOIZ RAZA\n",
    "## SECTION: BSAI-3A\n",
    "## ROLL NO: SU92-BSAIM-F24-061\n",
    "## SUBJECT: ARTIFICIAL INTELIGENCE (LAB)"
   ]
  },
  {
   "cell_type": "markdown",
   "id": "f92d2c4a",
   "metadata": {},
   "source": [
    "## Write a python program to remove punctuations from the given string?"
   ]
  },
  {
   "cell_type": "code",
   "execution_count": 1,
   "id": "68a2b72d",
   "metadata": {},
   "outputs": [
    {
     "name": "stdout",
     "output_type": "stream",
     "text": [
      "k u c h b h i k u c h b h i "
     ]
    }
   ],
   "source": [
    "string = \"kuch bhi , kuch bhi , ! , @ , # , $ , % , ^ , & , * , ( , ) , _ , - , + , = , { , } , [ , ] , | , \\\\ , : , ; , ' , \\\" , < , > , , , . , ? , /\"\n",
    "\n",
    "for char in string:\n",
    "    if char.isalpha(): \n",
    "        print(char, end=\" \")\n",
    "\n"
   ]
  },
  {
   "cell_type": "markdown",
   "id": "fba26f64",
   "metadata": {},
   "source": [
    "## Write a python program to sort the sentence in alphabetical order? "
   ]
  },
  {
   "cell_type": "code",
   "execution_count": 5,
   "id": "d2695c47",
   "metadata": {},
   "outputs": [
    {
     "name": "stdout",
     "output_type": "stream",
     "text": [
      "By words: Moiz My Name is\n",
      "By characters: MMNaeiimosyz\n"
     ]
    }
   ],
   "source": [
    "def bubble_sort(arr):\n",
    "    n = len(arr)\n",
    "    for i in range(n):\n",
    "        for j in range(n-i-1):\n",
    "            if arr[j] > arr[j+1]:\n",
    "                arr[j], arr[j+1] = arr[j+1], arr[j]\n",
    "    return arr\n",
    "\n",
    "text = \"My Name is Moiz\"\n",
    "\n",
    "words = text.split()\n",
    "words = bubble_sort(words.copy())\n",
    "print(\"By words:\", \" \".join(words))\n",
    "\n",
    "chars = list(text.replace(\" \", \"\"))\n",
    "chars = bubble_sort(chars.copy())\n",
    "print(\"By characters:\", \"\".join(chars))\n",
    "\n"
   ]
  },
  {
   "cell_type": "markdown",
   "id": "448c3b5c",
   "metadata": {},
   "source": [
    "## Code for LUHN Algorithm\n"
   ]
  },
  {
   "cell_type": "code",
   "execution_count": 3,
   "id": "590280af",
   "metadata": {},
   "outputs": [
    {
     "name": "stdout",
     "output_type": "stream",
     "text": [
      "5893804115457289 is a valid number \n"
     ]
    }
   ],
   "source": [
    "def luhn_check(number):\n",
    "    number = str(number)\n",
    "    total = 0\n",
    "    reverse_digits = number[::-1]\n",
    "\n",
    "    for i, digit in enumerate(reverse_digits):\n",
    "        n = int(digit)\n",
    "        if i % 2 == 1:  \n",
    "            n *= 2\n",
    "            if n > 9:\n",
    "                n -= 9\n",
    "        total += n\n",
    "\n",
    "    return total % 10 == 0\n",
    "\n",
    "\n",
    "num = \"5893804115457289\"\n",
    "if luhn_check(num):\n",
    "    print(f\"{num} is a valid number \")\n",
    "else:\n",
    "    print(f\"{num} is not a valid number \")\n"
   ]
  }
 ],
 "metadata": {
  "kernelspec": {
   "display_name": "base",
   "language": "python",
   "name": "python3"
  },
  "language_info": {
   "codemirror_mode": {
    "name": "ipython",
    "version": 3
   },
   "file_extension": ".py",
   "mimetype": "text/x-python",
   "name": "python",
   "nbconvert_exporter": "python",
   "pygments_lexer": "ipython3",
   "version": "3.12.4"
  }
 },
 "nbformat": 4,
 "nbformat_minor": 5
}
