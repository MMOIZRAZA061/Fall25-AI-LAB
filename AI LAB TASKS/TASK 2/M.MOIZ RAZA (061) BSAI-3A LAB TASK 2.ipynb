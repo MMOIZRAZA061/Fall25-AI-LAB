{
 "cells": [
  {
   "cell_type": "markdown",
   "id": "2b931004",
   "metadata": {},
   "source": [
    "### NAME: MOIZ RAZA\n",
    "### ROLL NUMBER: SU92-BSAIM-F24-061\n",
    "### SECTION: BSAI-2A"
   ]
  },
  {
   "cell_type": "markdown",
   "id": "742389d0",
   "metadata": {},
   "source": [
    "# FIZZ/BUZZ"
   ]
  },
  {
   "cell_type": "code",
   "execution_count": 1,
   "id": "8726704b",
   "metadata": {},
   "outputs": [
    {
     "name": "stdout",
     "output_type": "stream",
     "text": [
      "The random number is : 42\n",
      "Correct!\n",
      "The random number is : 18\n",
      "The correct answer is :  fizzbuzz\n",
      "And your hidden number is : 60\n",
      "Your final score is: 1\n",
      "Your final score is: 0\n"
     ]
    }
   ],
   "source": [
    "import random\n",
    "\n",
    "def get_answer(num):\n",
    "    if num % 3 == 0 and num % 5 == 0:\n",
    "        return \"fizzbuzz\"\n",
    "    elif num % 3 == 0:\n",
    "        return \"fizz\"\n",
    "    elif num % 5 == 0:\n",
    "        return \"buzz\"\n",
    "    else:\n",
    "        return \"Number\"\n",
    "\n",
    "def play():\n",
    "    backend = 0 \n",
    "    score=0\n",
    "    prev_no=0\n",
    "    while True:\n",
    "        no=random.randint(1, 50)\n",
    "        backend = prev_no+ no\n",
    "        print(\"The random number is :\", no)\n",
    "        guess = input(\"Your guess (fizz/buzz/fizzbuzz/Number): \").strip()\n",
    "        correct = get_answer(backend)\n",
    "        if guess.lower() == correct.lower():\n",
    "            print(\"Correct!\")\n",
    "            score += 1\n",
    "            prev_no = no\n",
    "        else:\n",
    "            print(\"The correct answer is : \", correct)\n",
    "            print(\"And your hidden number is :\", backend)\n",
    "            cont = input(\"Would you like to continue (yes/no): \").strip().lower()\n",
    "            if cont != \"yes\":\n",
    "                print(\"Your final score is:\", score)\n",
    "                score = 0\n",
    "                backend = 0\n",
    "                prev_no = 0\n",
    "                break\n",
    "    print(\"Your final score is:\", score)\n",
    "\n",
    "    \n",
    "play()"
   ]
  },
  {
   "cell_type": "markdown",
   "id": "33dd1c97",
   "metadata": {},
   "source": [
    "# MOVIE BUDGET ANALYZER"
   ]
  },
  {
   "cell_type": "code",
   "execution_count": null,
   "id": "8c061a79",
   "metadata": {},
   "outputs": [],
   "source": [
    "class MovieBudgetAnalyzer:\n",
    "   \n",
    "    def __init__(self):\n",
    "        \n",
    "        self.movies = [\n",
    "            (\"Eternal Sunshine of the Spotless Mind\", 20000000),\n",
    "            (\"Memento\", 9000000),\n",
    "            (\"Requiem for a Dream\", 4500000),\n",
    "            (\"Pirates of the Caribbean: On Stranger Tides\", 379000000),\n",
    "            (\"Avengers: Age of Ultron\", 365000000),\n",
    "            (\"Avengers: Endgame\", 356000000),\n",
    "            (\"Incredibles 2\", 200000000)\n",
    "        ]\n",
    "        \n",
    "    def add_movies_from_user(self):\n",
    "        \n",
    "        add_new = input(\"Do you want to add more movies to the dataset? (yes/no): \").strip().lower()\n",
    "        if add_new != 'yes':\n",
    "            print(\"Continuing with the original dataset.\")\n",
    "            return\n",
    "\n",
    "        try:\n",
    "            num_to_add = int(input(\"How many movies would you like to add?: \"))\n",
    "            for i in range(num_to_add):\n",
    "                movie_name = input(f\"Enter the name of movie #{i + 1}: \")\n",
    "                while True:\n",
    "                    try:\n",
    "                        movie_budget = float(input(f\"Enter the budget for '{movie_name}': \"))\n",
    "                        self.movies.append((movie_name, movie_budget))\n",
    "                        break\n",
    "                    except ValueError:\n",
    "                        print(\"Invalid input. Please enter a number for the budget.\")\n",
    "        except ValueError:\n",
    "            print(\"Invalid input. Please enter a valid number for how many movies you want to add.\")\n",
    "            \n",
    "    def analyze_budgets(self):\n",
    "\n",
    "        \n",
    "        if not self.movies:\n",
    "            print(\"The movie list is empty. Cannot perform calculations.\")\n",
    "            return\n",
    "\n",
    "        \n",
    "        total_budget = sum(budget for _, budget in self.movies)\n",
    "\n",
    "        \n",
    "        average_budget = total_budget / len(self.movies)\n",
    "        print(f\"The average budget of the films is: ${average_budget:,.2f}\")\n",
    "\n",
    "        \n",
    "        high_budget_count = 0\n",
    "        print(\"Movies with a budget higher than the average:\")\n",
    "        for name, budget in self.movies:\n",
    "            if budget > average_budget:\n",
    "                high_budget_count += 1\n",
    "                difference = budget - average_budget\n",
    "                print(f\"- '{name}' with a budget of ${budget:,.0f}, which is ${difference:,.2f} higher than the average.\")\n",
    "        \n",
    "\n",
    "        print(f\"\\nTotal films with a budget higher than the average: {high_budget_count}\")\n",
    "\n",
    "\n",
    "\n",
    "if __name__ == \"__main__\":\n",
    "    analyzer = MovieBudgetAnalyzer()\n",
    "    analyzer.add_movies_from_user()\n",
    "    analyzer.analyze_budgets()\n"
   ]
  },
  {
   "cell_type": "markdown",
   "id": "043435a0",
   "metadata": {},
   "source": []
  }
 ],
 "metadata": {
  "kernelspec": {
   "display_name": "base",
   "language": "python",
   "name": "python3"
  },
  "language_info": {
   "codemirror_mode": {
    "name": "ipython",
    "version": 3
   },
   "file_extension": ".py",
   "mimetype": "text/x-python",
   "name": "python",
   "nbconvert_exporter": "python",
   "pygments_lexer": "ipython3",
   "version": "3.12.4"
  }
 },
 "nbformat": 4,
 "nbformat_minor": 5
}
